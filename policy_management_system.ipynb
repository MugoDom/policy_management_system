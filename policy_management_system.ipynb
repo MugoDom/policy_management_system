{
 "cells": [
  {
   "cell_type": "markdown",
   "metadata": {},
   "source": [
    "# Policy Management System"
   ]
  },
  {
   "cell_type": "markdown",
   "metadata": {},
   "source": [
    "## Background\n",
    "A Management Information Systems (MIS) is a sytem that uses data to allow organizations to make strategic decisions about their operations. As organizations become more aware about the importance of data access, analytics and management, MIS have become significant in managing business processes. Having access to accurate and timely data is critical for business success. A MIS gives the organization managers a powerful tool to track Key Performance Indicators (KPIs), monitor trends and make insightful decisions on where to focus their resources."
   ]
  },
  {
   "cell_type": "markdown",
   "metadata": {},
   "source": [
    "## Objectives\n",
    "Yaspi insurance company wants to create a policy management system to manage policyholders, products, and payments. The system should allow policy managers to perform various tasks, such as adding and suspending policyholders, registering new members, and managing policy products. We will create a simple application that allows the system users to manage the memembers information. Yaspi will later scale this to a full interactive application."
   ]
  },
  {
   "cell_type": "markdown",
   "metadata": {},
   "source": [
    "## Approach\n",
    "We will implement this policy management system in this notebook, by defining python classes that"
   ]
  }
 ],
 "metadata": {
  "kernelspec": {
   "display_name": "Python 3",
   "language": "python",
   "name": "python3"
  },
  "language_info": {
   "codemirror_mode": {
    "name": "ipython",
    "version": 3
   },
   "file_extension": ".py",
   "mimetype": "text/x-python",
   "name": "python",
   "nbconvert_exporter": "python",
   "pygments_lexer": "ipython3",
   "version": "3.8.5"
  }
 },
 "nbformat": 4,
 "nbformat_minor": 4
}
